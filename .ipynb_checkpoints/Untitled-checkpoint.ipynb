{
 "cells": [
  {
   "cell_type": "code",
   "execution_count": 13,
   "metadata": {
    "collapsed": true
   },
   "outputs": [],
   "source": [
    "P_0a4_1970 = 74652\n",
    "P_0a4_1980 = 76253\n",
    "P_0a4_1990 = 66703\n",
    "P_0a4_2000 = 60009\n",
    "\n",
    "def tasa(pasado, presente, años):\n",
    "    t = (presente / pasado) - 1\n",
    "    tt = t * 100\n",
    "    ta = tt/años\n",
    "    t12 = ta / 2\n",
    "    print ('la tasa promedio anual es:', ta)\n",
    "    print ('La tasa a medio año es:', t12)\n",
    "    return tt, ta"
   ]
  },
  {
   "cell_type": "code",
   "execution_count": 14,
   "metadata": {
    "collapsed": false
   },
   "outputs": [
    {
     "name": "stdout",
     "output_type": "stream",
     "text": [
      "la tasa promedio anual es: -1.0035530635803491\n",
      "La tasa a medio año es: -0.5017765317901746\n",
      "la tasa promedio anual es: -1.252409741256082\n",
      "La tasa a medio año es: -0.626204870628041\n",
      "la tasa promedio anual es: 0.2144617692761086\n",
      "La tasa a medio año es: 0.1072308846380543\n"
     ]
    },
    {
     "data": {
      "text/plain": [
       "(2.144617692761086, 0.2144617692761086)"
      ]
     },
     "execution_count": 14,
     "metadata": {},
     "output_type": "execute_result"
    }
   ],
   "source": [
    "tasa (P_0a4_1990, P_0a4_2000, 10)\n",
    "tasa (P_0a4_1980, P_0a4_1990, 10)\n",
    "tasa (P_0a4_1970, P_0a4_1980, 10)"
   ]
  },
  {
   "cell_type": "code",
   "execution_count": 15,
   "metadata": {
    "collapsed": true
   },
   "outputs": [],
   "source": [
    "def poblacion(p, t):\n",
    "    tt = t /100\n",
    "    pob = p * tt\n",
    "    pobT = p + pob\n",
    "    print (pobT)\n",
    "    return pobT"
   ]
  },
  {
   "cell_type": "code",
   "execution_count": 16,
   "metadata": {
    "collapsed": false
   },
   "outputs": [
    {
     "name": "stdout",
     "output_type": "stream",
     "text": [
      "19063.246698\n",
      "16675.765681542478\n",
      "15002.269216571283\n"
     ]
    }
   ],
   "source": [
    "P_0a6_1970 = 18663\n",
    "P_0a6_1980 = poblacion(P_0a6_1970, 2.1446)\n",
    "P_0a6_1990 = poblacion(P_0a6_1980, -12.524)\n",
    "P_0a6_2000 = poblacion(P_0a6_1990, -10.0355)"
   ]
  },
  {
   "cell_type": "code",
   "execution_count": 17,
   "metadata": {
    "collapsed": false
   },
   "outputs": [
    {
     "name": "stdout",
     "output_type": "stream",
     "text": [
      "la tasa promedio anual es: -5.079577700254687\n",
      "La tasa a medio año es: -2.5397888501273433\n"
     ]
    },
    {
     "data": {
      "text/plain": [
       "(-50.79577700254686, -5.079577700254687)"
      ]
     },
     "execution_count": 17,
     "metadata": {},
     "output_type": "execute_result"
    }
   ],
   "source": [
    "tasa (15002.269216571283, 7381.75, 10)"
   ]
  },
  {
   "cell_type": "code",
   "execution_count": 23,
   "metadata": {
    "collapsed": false
   },
   "outputs": [
    {
     "name": "stdout",
     "output_type": "stream",
     "text": [
      "74732.05\n",
      "74812.18583832316\n",
      "80.05000000000291\n"
     ]
    }
   ],
   "source": [
    "P_0a4_1970 = 74652\n",
    "\n",
    "P_0a4_1971 = poblacion(P_0a4_1970, 0.1072308846380543)\n",
    "P_0a6m_1972 = poblacion(P_0a4_1971,0.1072308846380543)\n",
    "P_0a6m_1971 = P_0a4_1971 - P_0a4_1970\n",
    "print (P_0a6m_1971)"
   ]
  },
  {
   "cell_type": "code",
   "execution_count": 28,
   "metadata": {
    "collapsed": false
   },
   "outputs": [
    {
     "name": "stdout",
     "output_type": "stream",
     "text": [
      "59406.777842076066\n",
      "58810.59930306754\n",
      "58220.40373205164\n",
      "57636.13108676979\n",
      "602.222157923934\n"
     ]
    }
   ],
   "source": [
    "P_0a4_1970 = 74652\n",
    "P_0a4_1980 = 76253\n",
    "P_0a4_1990 = 66703\n",
    "P_0a4_2000 = 60009\n",
    "\n",
    "P_0a4_2001 = poblacion(P_0a4_2000, -1.0035530635803491 )\n",
    "P_0a4_2002 = poblacion(P_0a4_2001, -1.0035530635803491 )\n",
    "P_0a4_2003 = poblacion(P_0a4_2002, -1.0035530635803491 )\n",
    "P_0a4_2004 = poblacion(P_0a4_2003, -1.0035530635803491 )\n",
    "\n",
    "P_4_2000 = P_0a4_2000 - P_0a4_2001 \n",
    "print (P_4_2000)"
   ]
  },
  {
   "cell_type": "code",
   "execution_count": null,
   "metadata": {
    "collapsed": true
   },
   "outputs": [],
   "source": []
  }
 ],
 "metadata": {
  "kernelspec": {
   "display_name": "Python 3",
   "language": "python",
   "name": "python3"
  },
  "language_info": {
   "codemirror_mode": {
    "name": "ipython",
    "version": 3
   },
   "file_extension": ".py",
   "mimetype": "text/x-python",
   "name": "python",
   "nbconvert_exporter": "python",
   "pygments_lexer": "ipython3",
   "version": "3.5.1"
  }
 },
 "nbformat": 4,
 "nbformat_minor": 0
}
